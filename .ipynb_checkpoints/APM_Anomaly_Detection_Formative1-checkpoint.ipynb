{
 "cells": [
  {
   "cell_type": "markdown",
   "metadata": {
    "colab_type": "text",
    "id": "bCHMd3d1QJBt"
   },
   "source": [
    "# Asset Performance Management"
   ]
  },
  {
   "cell_type": "markdown",
   "metadata": {
    "colab_type": "text",
    "id": "eobPFghzQJBw"
   },
   "source": [
    "Scenario: We have been given data from a Chemical Processing plant that uses its equipement for heating and cooling the chemicals that it manufactures for its customers.\n",
    "\n",
    "We have around 5 years of data for its pump, chilling units and heat exchangers. (These individual components are not critical for our purposes.)\n",
    "\n",
    "**Goal**: But looking at the sensors and instrumented data over 5 years of history, we have to see if the asset is performing well, or whether we are seeing anomalies.\n"
   ]
  },
  {
   "cell_type": "markdown",
   "metadata": {
    "colab_type": "text",
    "id": "f6MwPPkHQJBy"
   },
   "source": [
    "Input file for this task: `APM_Asset_operations.csv`"
   ]
  },
  {
   "cell_type": "markdown",
   "metadata": {
    "colab_type": "text",
    "id": "vI8OqSHoQJBz"
   },
   "source": [
    "### Preparatory Tasks\n",
    "\n",
    "1. Read the input file\n",
    "2. Format the data into a proper time series (with datetime) Timestamps and floats for the sensor values\n",
    "3. Plot each of the sensors"
   ]
  },
  {
   "cell_type": "markdown",
   "metadata": {
    "colab_type": "text",
    "id": "6gbrlE69QJB1"
   },
   "source": [
    "### Anomaly Detection\n",
    "4. Are you able to spot (visually) any anomalies?\n",
    "5. Could there be threshold values that are being violated (above or below control limits?) for 'normal' operation?\n",
    "5a. How to set thresholds to detect any of these anomalies.\n",
    "\n",
    "6. (Optional): Can you try applying any of the `skelarn` outlier detection techniques? Does that catch the anomalies we say visually."
   ]
  },
  {
   "cell_type": "markdown",
   "metadata": {
    "colab_type": "text",
    "id": "XTxPPiaHQJB3",
    "slideshow": {
     "slide_type": "fragment"
    }
   },
   "source": [
    "## Questions\n",
    "\n",
    "* Focus on `Fuel Pressure`, `Lubricant Temperature` and `Tank Level`?\n",
    "    * What metrics could we apply to these?\n",
    "* Insights: Can we conclude that there are any alarms or anomalies in the data that we are examining?\n",
    "* If you compute the rolling mean (moving averages) for these values and overlay them with the data, can you detect any anomalies?"
   ]
  },
  {
   "cell_type": "code",
   "execution_count": 0,
   "metadata": {
    "colab": {},
    "colab_type": "code",
    "id": "NczK-_JgQJB6",
    "slideshow": {
     "slide_type": "slide"
    }
   },
   "outputs": [],
   "source": [
    "import numpy as np\n",
    "import pandas as pd\n",
    "import matplotlib.pyplot as plt\n",
    "import seaborn as sns\n",
    "import os"
   ]
  },
  {
   "cell_type": "code",
   "execution_count": 0,
   "metadata": {
    "colab": {},
    "colab_type": "code",
    "id": "Kkj_-9BPQJB_"
   },
   "outputs": [],
   "source": [
    "%matplotlib inline"
   ]
  },
  {
   "cell_type": "markdown",
   "metadata": {
    "colab_type": "text",
    "id": "aq5cNO17QJCC"
   },
   "source": [
    "## Data Prep Tasks"
   ]
  },
  {
   "cell_type": "code",
   "execution_count": 0,
   "metadata": {
    "colab": {},
    "colab_type": "code",
    "id": "1sGfdDvgQJCD"
   },
   "outputs": [],
   "source": [
    ""
   ]
  },
  {
   "cell_type": "code",
   "execution_count": 0,
   "metadata": {
    "colab": {},
    "colab_type": "code",
    "id": "wRx2v3k2QJCG"
   },
   "outputs": [],
   "source": [
    ""
   ]
  },
  {
   "cell_type": "code",
   "execution_count": 0,
   "metadata": {
    "colab": {},
    "colab_type": "code",
    "id": "0WvhZ4ARQJCK"
   },
   "outputs": [],
   "source": [
    ""
   ]
  },
  {
   "cell_type": "markdown",
   "metadata": {
    "colab_type": "text",
    "id": "uvbog8x9QJCP"
   },
   "source": [
    "## Anomaly Detection Tasks"
   ]
  },
  {
   "cell_type": "code",
   "execution_count": 0,
   "metadata": {
    "colab": {},
    "colab_type": "code",
    "id": "enwTiYpMQJCP"
   },
   "outputs": [],
   "source": [
    "\n",
    "\n"
   ]
  },
  {
   "cell_type": "code",
   "execution_count": 0,
   "metadata": {
    "colab": {},
    "colab_type": "code",
    "id": "KA_ZM9QCQJCU"
   },
   "outputs": [],
   "source": [
    ""
   ]
  },
  {
   "cell_type": "markdown",
   "metadata": {
    "colab_type": "text",
    "id": "qGskkDilQJCa"
   },
   "source": [
    "# Conclusions and Recommendations"
   ]
  },
  {
   "cell_type": "code",
   "execution_count": 0,
   "metadata": {
    "colab": {},
    "colab_type": "code",
    "id": "TiZfQEWyQJCb"
   },
   "outputs": [],
   "source": [
    ""
   ]
  }
 ],
 "metadata": {
  "colab": {
   "name": "APM_Anomaly_Detection_Formative1.ipynb",
   "provenance": [],
   "version": "0.3.2"
  },
  "kernelspec": {
   "display_name": "Python 3",
   "language": "python",
   "name": "python3"
  }
 },
 "nbformat": 4,
 "nbformat_minor": 0
}
